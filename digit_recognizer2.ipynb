{
 "cells": [
  {
   "cell_type": "markdown",
   "metadata": {},
   "source": [
    "## best score of 0.994 with data augmentation"
   ]
  },
  {
   "cell_type": "code",
   "execution_count": 1,
   "metadata": {},
   "outputs": [],
   "source": [
    "import pandas as pd \n",
    "import numpy as np "
   ]
  },
  {
   "cell_type": "code",
   "execution_count": 2,
   "metadata": {},
   "outputs": [],
   "source": [
    "import tensorflow.keras\n",
    "from tensorflow.keras.models import Sequential\n",
    "from tensorflow.keras.layers import Dense, Activation, Flatten, Dropout, BatchNormalization\n",
    "from tensorflow.keras.layers import Conv2D, MaxPooling2D\n",
    "from tensorflow.keras.optimizers import Adam\n",
    "from tensorflow.keras.utils import to_categorical\n",
    "from tensorflow.keras.preprocessing.image import ImageDataGenerator"
   ]
  },
  {
   "cell_type": "code",
   "execution_count": 3,
   "metadata": {},
   "outputs": [],
   "source": [
    "train = pd.read_csv('dataset/digit_recognizer/train.csv')\n",
    "X = train.drop('label', axis=1)\n",
    "y = train['label']"
   ]
  },
  {
   "cell_type": "code",
   "execution_count": 4,
   "metadata": {},
   "outputs": [],
   "source": [
    "from sklearn.preprocessing import MinMaxScaler\n",
    "scaler = MinMaxScaler(feature_range=(-1, 1))\n",
    "X = scaler.fit_transform(X)"
   ]
  },
  {
   "cell_type": "code",
   "execution_count": 5,
   "metadata": {},
   "outputs": [],
   "source": [
    "X = np.array(X).reshape(-1, 28, 28, 1)\n",
    "y = to_categorical(y, num_classes=10)"
   ]
  },
  {
   "cell_type": "markdown",
   "metadata": {},
   "source": [
    "## very simple layer for practice"
   ]
  },
  {
   "cell_type": "code",
   "execution_count": 6,
   "metadata": {},
   "outputs": [],
   "source": [
    "model = Sequential([\n",
    "\n",
    "    # first\n",
    "    Conv2D(64, kernel_size=(3, 3), activation='relu', input_shape=(28,28,1)),\n",
    "    Conv2D(56, kernel_size=(3,3), activation='relu', padding='same'),\n",
    "    BatchNormalization(),\n",
    "    MaxPooling2D(pool_size=(2,2)),\n",
    "    Dropout(0.2),\n",
    "\n",
    "    # second\n",
    "    Conv2D(48, kernel_size=(3,3), activation='relu'),\n",
    "    Conv2D(32, kernel_size=(3,3), activation='relu'),\n",
    "    BatchNormalization(),\n",
    "    MaxPooling2D(pool_size=(2,2)),\n",
    "    Dropout(0.2),\n",
    "\n",
    "    # third\n",
    "    Flatten(),\n",
    "    Dense(128, activation='relu'),\n",
    "    Dense(64, activation='relu'),\n",
    "    Dropout(0.4),\n",
    "\n",
    "    #last\n",
    "    Dense(10, activation='softmax')\n",
    "])"
   ]
  },
  {
   "cell_type": "code",
   "execution_count": 7,
   "metadata": {},
   "outputs": [],
   "source": [
    "model.compile(optimizer=Adam(lr=0.001), loss='categorical_crossentropy', metrics=['accuracy'])"
   ]
  },
  {
   "cell_type": "code",
   "execution_count": 8,
   "metadata": {},
   "outputs": [],
   "source": [
    "from sklearn.model_selection import train_test_split\n",
    "X_train, X_val, y_train, y_val = train_test_split(X, y, test_size=0.1, random_state=7)"
   ]
  },
  {
   "cell_type": "code",
   "execution_count": 9,
   "metadata": {},
   "outputs": [],
   "source": [
    "imggen = ImageDataGenerator(rotation_range=10,\n",
    "            width_shift_range=0.1,\n",
    "            height_shift_range=0.1,\n",
    "            zoom_range=0.1)\n",
    "\n",
    "imggen.fit(X_train)"
   ]
  },
  {
   "cell_type": "code",
   "execution_count": 10,
   "metadata": {},
   "outputs": [
    {
     "output_type": "stream",
     "name": "stdout",
     "text": "WARNING:tensorflow:From <ipython-input-10-c8312b1477bf>:1: Model.fit_generator (from tensorflow.python.keras.engine.training) is deprecated and will be removed in a future version.\nInstructions for updating:\nPlease use Model.fit, which supports generators.\nEpoch 1/5\n1890/1890 - 144s - loss: 0.4489 - accuracy: 0.8611 - val_loss: 0.0737 - val_accuracy: 0.9793\nEpoch 2/5\n1890/1890 - 145s - loss: 0.1581 - accuracy: 0.9554 - val_loss: 0.0488 - val_accuracy: 0.9871\nEpoch 3/5\n1890/1890 - 145s - loss: 0.1234 - accuracy: 0.9667 - val_loss: 0.0522 - val_accuracy: 0.9869\nEpoch 4/5\n1890/1890 - 149s - loss: 0.0984 - accuracy: 0.9718 - val_loss: 0.0525 - val_accuracy: 0.9876\nEpoch 5/5\n1890/1890 - 150s - loss: 0.0958 - accuracy: 0.9749 - val_loss: 0.0514 - val_accuracy: 0.9864\n"
    }
   ],
   "source": [
    "pred = model.fit_generator(imggen.flow(X_train, y_train, batch_size=20), validation_data=(X_val, y_val), epochs=5, verbose=2)"
   ]
  },
  {
   "cell_type": "code",
   "execution_count": 11,
   "metadata": {},
   "outputs": [
    {
     "output_type": "stream",
     "name": "stdout",
     "text": "Epoch 1/5\n2100/2100 - 153s - loss: 0.0836 - accuracy: 0.9781\nEpoch 2/5\n2100/2100 - 155s - loss: 0.0731 - accuracy: 0.9803\nEpoch 3/5\n2100/2100 - 156s - loss: 0.0696 - accuracy: 0.9814\nEpoch 4/5\n2100/2100 - 154s - loss: 0.0678 - accuracy: 0.9817\nEpoch 5/5\n2100/2100 - 143s - loss: 0.0643 - accuracy: 0.9832\n"
    }
   ],
   "source": [
    "pred = model.fit_generator(imggen.flow(X, y, batch_size=20), epochs=5, verbose=2)"
   ]
  },
  {
   "cell_type": "code",
   "execution_count": 12,
   "metadata": {},
   "outputs": [],
   "source": [
    "test = pd.read_csv('dataset/digit_recognizer/test.csv')\n",
    "X1 = test\n",
    "scaler = MinMaxScaler(feature_range=(-1, 1))\n",
    "X1 = scaler.fit_transform(X1)\n",
    "X1 = X1.reshape(X1.shape[0], 28, 28, 1)"
   ]
  },
  {
   "cell_type": "code",
   "execution_count": 13,
   "metadata": {},
   "outputs": [],
   "source": [
    "pred = model.predict(X1, batch_size=20)"
   ]
  },
  {
   "cell_type": "code",
   "execution_count": 14,
   "metadata": {},
   "outputs": [],
   "source": [
    "pred = np.argmax(pred, axis=1)"
   ]
  },
  {
   "cell_type": "code",
   "execution_count": 15,
   "metadata": {},
   "outputs": [],
   "source": [
    "sample = pd.read_csv('dataset/digit_recognizer/sample_submission.csv')\n",
    "sample['Label'] = pred\n",
    "sample.to_csv('dataset/digit_recognizer/2simple_data_aug.csv', index=False)"
   ]
  },
  {
   "cell_type": "code",
   "execution_count": null,
   "metadata": {},
   "outputs": [],
   "source": []
  }
 ],
 "metadata": {
  "language_info": {
   "codemirror_mode": {
    "name": "ipython",
    "version": 3
   },
   "file_extension": ".py",
   "mimetype": "text/x-python",
   "name": "python",
   "nbconvert_exporter": "python",
   "pygments_lexer": "ipython3",
   "version": "3.8.1-final"
  },
  "orig_nbformat": 2,
  "kernelspec": {
   "name": "python38164bit98292f7535584f2ab6eea9ca00c1b402",
   "display_name": "Python 3.8.1 64-bit"
  }
 },
 "nbformat": 4,
 "nbformat_minor": 2
}