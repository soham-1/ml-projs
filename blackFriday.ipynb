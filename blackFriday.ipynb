{
 "cells": [
  {
   "cell_type": "markdown",
   "metadata": {},
   "source": [
    "## table of content\n",
    "* <a href=\"#modules\">importing modules</a>\n",
    "* <a href=\"#visualization\">data visualization and preprocessing</a>\n",
    "* <a href=\"#pipeline\">Building Pipelines</a>\n",
    "* <a href=\"#Regression\">Regression Models</a>"
   ]
  },
  {
   "cell_type": "markdown",
   "metadata": {},
   "source": [
    "<a id='modules'></a>\n",
    "# importing modules and dataset"
   ]
  },
  {
   "cell_type": "code",
   "execution_count": 1,
   "metadata": {},
   "outputs": [],
   "source": [
    "import numpy as np\n",
    "import pandas as pd\n",
    "import matplotlib.pyplot as plt\n",
    "import seaborn as sns\n",
    "\n",
    "from sklearn.preprocessing import LabelEncoder,OneHotEncoder, FunctionTransformer, StandardScaler\n",
    "from sklearn.impute import SimpleImputer\n",
    "\n",
    "from sklearn.base import BaseEstimator, TransformerMixin\n",
    "from sklearn.compose import ColumnTransformer\n",
    "\n",
    "from sklearn.model_selection import train_test_split, cross_val_score\n",
    "\n",
    "from sklearn.linear_model import LinearRegression, Ridge, Lasso, SGDRegressor\n",
    "from sklearn.ensemble import RandomForestRegressor, GradientBoostingRegressor, AdaBoostRegressor\n",
    "from sklearn.tree import DecisionTreeRegressor\n",
    "\n",
    "from sklearn.metrics import mean_squared_error"
   ]
  },
  {
   "cell_type": "code",
   "execution_count": 2,
   "metadata": {},
   "outputs": [
    {
     "data": {
      "text/html": [
       "<div>\n",
       "<style scoped>\n",
       "    .dataframe tbody tr th:only-of-type {\n",
       "        vertical-align: middle;\n",
       "    }\n",
       "\n",
       "    .dataframe tbody tr th {\n",
       "        vertical-align: top;\n",
       "    }\n",
       "\n",
       "    .dataframe thead th {\n",
       "        text-align: right;\n",
       "    }\n",
       "</style>\n",
       "<table border=\"1\" class=\"dataframe\">\n",
       "  <thead>\n",
       "    <tr style=\"text-align: right;\">\n",
       "      <th></th>\n",
       "      <th>User_ID</th>\n",
       "      <th>Product_ID</th>\n",
       "      <th>Gender</th>\n",
       "      <th>Age</th>\n",
       "      <th>Occupation</th>\n",
       "      <th>City_Category</th>\n",
       "      <th>Stay_In_Current_City_Years</th>\n",
       "      <th>Marital_Status</th>\n",
       "      <th>Product_Category_1</th>\n",
       "      <th>Product_Category_2</th>\n",
       "      <th>Product_Category_3</th>\n",
       "      <th>Purchase</th>\n",
       "    </tr>\n",
       "  </thead>\n",
       "  <tbody>\n",
       "    <tr>\n",
       "      <th>0</th>\n",
       "      <td>1000001</td>\n",
       "      <td>P00069042</td>\n",
       "      <td>F</td>\n",
       "      <td>0-17</td>\n",
       "      <td>10</td>\n",
       "      <td>A</td>\n",
       "      <td>2</td>\n",
       "      <td>0</td>\n",
       "      <td>3</td>\n",
       "      <td>NaN</td>\n",
       "      <td>NaN</td>\n",
       "      <td>8370</td>\n",
       "    </tr>\n",
       "    <tr>\n",
       "      <th>1</th>\n",
       "      <td>1000001</td>\n",
       "      <td>P00248942</td>\n",
       "      <td>F</td>\n",
       "      <td>0-17</td>\n",
       "      <td>10</td>\n",
       "      <td>A</td>\n",
       "      <td>2</td>\n",
       "      <td>0</td>\n",
       "      <td>1</td>\n",
       "      <td>6.0</td>\n",
       "      <td>14.0</td>\n",
       "      <td>15200</td>\n",
       "    </tr>\n",
       "    <tr>\n",
       "      <th>2</th>\n",
       "      <td>1000001</td>\n",
       "      <td>P00087842</td>\n",
       "      <td>F</td>\n",
       "      <td>0-17</td>\n",
       "      <td>10</td>\n",
       "      <td>A</td>\n",
       "      <td>2</td>\n",
       "      <td>0</td>\n",
       "      <td>12</td>\n",
       "      <td>NaN</td>\n",
       "      <td>NaN</td>\n",
       "      <td>1422</td>\n",
       "    </tr>\n",
       "    <tr>\n",
       "      <th>3</th>\n",
       "      <td>1000001</td>\n",
       "      <td>P00085442</td>\n",
       "      <td>F</td>\n",
       "      <td>0-17</td>\n",
       "      <td>10</td>\n",
       "      <td>A</td>\n",
       "      <td>2</td>\n",
       "      <td>0</td>\n",
       "      <td>12</td>\n",
       "      <td>14.0</td>\n",
       "      <td>NaN</td>\n",
       "      <td>1057</td>\n",
       "    </tr>\n",
       "    <tr>\n",
       "      <th>4</th>\n",
       "      <td>1000002</td>\n",
       "      <td>P00285442</td>\n",
       "      <td>M</td>\n",
       "      <td>55+</td>\n",
       "      <td>16</td>\n",
       "      <td>C</td>\n",
       "      <td>4+</td>\n",
       "      <td>0</td>\n",
       "      <td>8</td>\n",
       "      <td>NaN</td>\n",
       "      <td>NaN</td>\n",
       "      <td>7969</td>\n",
       "    </tr>\n",
       "  </tbody>\n",
       "</table>\n",
       "</div>"
      ],
      "text/plain": [
       "   User_ID Product_ID Gender   Age  Occupation City_Category  \\\n",
       "0  1000001  P00069042      F  0-17          10             A   \n",
       "1  1000001  P00248942      F  0-17          10             A   \n",
       "2  1000001  P00087842      F  0-17          10             A   \n",
       "3  1000001  P00085442      F  0-17          10             A   \n",
       "4  1000002  P00285442      M   55+          16             C   \n",
       "\n",
       "  Stay_In_Current_City_Years  Marital_Status  Product_Category_1  \\\n",
       "0                          2               0                   3   \n",
       "1                          2               0                   1   \n",
       "2                          2               0                  12   \n",
       "3                          2               0                  12   \n",
       "4                         4+               0                   8   \n",
       "\n",
       "   Product_Category_2  Product_Category_3  Purchase  \n",
       "0                 NaN                 NaN      8370  \n",
       "1                 6.0                14.0     15200  \n",
       "2                 NaN                 NaN      1422  \n",
       "3                14.0                 NaN      1057  \n",
       "4                 NaN                 NaN      7969  "
      ]
     },
     "execution_count": 2,
     "metadata": {},
     "output_type": "execute_result"
    }
   ],
   "source": [
    "df = pd.read_csv('datasets/blackFriday/train.csv')\n",
    "df.head()"
   ]
  },
  {
   "cell_type": "code",
   "execution_count": 3,
   "metadata": {},
   "outputs": [
    {
     "name": "stdout",
     "output_type": "stream",
     "text": [
      "<class 'pandas.core.frame.DataFrame'>\n",
      "RangeIndex: 550068 entries, 0 to 550067\n",
      "Data columns (total 12 columns):\n",
      " #   Column                      Non-Null Count   Dtype  \n",
      "---  ------                      --------------   -----  \n",
      " 0   User_ID                     550068 non-null  int64  \n",
      " 1   Product_ID                  550068 non-null  object \n",
      " 2   Gender                      550068 non-null  object \n",
      " 3   Age                         550068 non-null  object \n",
      " 4   Occupation                  550068 non-null  int64  \n",
      " 5   City_Category               550068 non-null  object \n",
      " 6   Stay_In_Current_City_Years  550068 non-null  object \n",
      " 7   Marital_Status              550068 non-null  int64  \n",
      " 8   Product_Category_1          550068 non-null  int64  \n",
      " 9   Product_Category_2          376430 non-null  float64\n",
      " 10  Product_Category_3          166821 non-null  float64\n",
      " 11  Purchase                    550068 non-null  int64  \n",
      "dtypes: float64(2), int64(5), object(5)\n",
      "memory usage: 50.4+ MB\n"
     ]
    }
   ],
   "source": [
    "df.info()"
   ]
  },
  {
   "cell_type": "code",
   "execution_count": 8,
   "metadata": {},
   "outputs": [
    {
     "name": "stdout",
     "output_type": "stream",
     "text": [
      "User_ID \t 0.0\n",
      "Product_ID \t 0.0\n",
      "Gender \t 0.0\n",
      "Age \t 0.0\n",
      "Occupation \t 0.0\n",
      "City_Category \t 0.0\n",
      "Stay_In_Current_City_Years \t 0.0\n",
      "Marital_Status \t 0.0\n",
      "Product_Category_1 \t 0.0\n",
      "Product_Category_2 \t 31.56664266963357\n",
      "Product_Category_3 \t 69.67265865311198\n",
      "Purchase \t 0.0\n"
     ]
    }
   ],
   "source": [
    "for i in df.columns:\n",
    "    print(i, \"\\t\", (df[i].isnull().sum() / len(df)) * 100)"
   ]
  },
  {
   "cell_type": "markdown",
   "metadata": {},
   "source": [
    "<a id='visualization'></a>\n",
    "# Data visualization and preprocessing"
   ]
  },
  {
   "cell_type": "code",
   "execution_count": 10,
   "metadata": {},
   "outputs": [
    {
     "data": {
      "text/plain": [
       "array([nan,  6., 14.,  2.,  8., 15., 16., 11.,  5.,  3.,  4., 12.,  9.,\n",
       "       10., 17., 13.,  7., 18.])"
      ]
     },
     "execution_count": 10,
     "metadata": {},
     "output_type": "execute_result"
    }
   ],
   "source": [
    "df['Product_Category_2'].unique()"
   ]
  },
  {
   "cell_type": "markdown",
   "metadata": {},
   "source": [
    "### both the columns have large amount of missing values, they indicate that the customer didn't but product from these categories.\n",
    "### so we can fill them with -2 so that the algorithm understands it's missing values and also we don't loose large amount of data"
   ]
  },
  {
   "cell_type": "code",
   "execution_count": 168,
   "metadata": {},
   "outputs": [],
   "source": [
    "df['Product_Category_2'].fillna(-2, inplace=True)\n",
    "df['Product_Category_3'].fillna(-2, inplace=True)"
   ]
  },
  {
   "cell_type": "code",
   "execution_count": 25,
   "metadata": {},
   "outputs": [
    {
     "data": {
      "text/plain": [
       "<AxesSubplot:xlabel='Age', ylabel='Purchase'>"
      ]
     },
     "execution_count": 25,
     "metadata": {},
     "output_type": "execute_result"
    },
    {
     "data": {
      "image/png": "[encoded data removed]",
      "text/plain": [
       "<Figure size 432x288 with 1 Axes>"
      ]
     },
     "metadata": {
      "needs_background": "light"
     },
     "output_type": "display_data"
    }
   ],
   "source": [
    "data = df.groupby(df['Age'])['Purchase'].sum().reset_index()\n",
    "sns.barplot(x = data['Age'], y = data['Purchase'])"
   ]
  },
  {
   "cell_type": "markdown",
   "metadata": {},
   "source": [
    "### age group 26-35 has maximum spending, next we'll see the products purchased commonly by these age groups"
   ]
  },
  {
   "cell_type": "code",
   "execution_count": 32,
   "metadata": {},
   "outputs": [
    {
     "data": {
      "text/plain": [
       "<AxesSubplot:xlabel='Product_Category_1', ylabel='count'>"
      ]
     },
     "execution_count": 32,
     "metadata": {},
     "output_type": "execute_result"
    },
    {
     "data": {
      "image/png": "[encoded data removed]",
      "text/plain": [
       "<Figure size 432x288 with 1 Axes>"
      ]
     },
     "metadata": {
      "needs_background": "light"
     },
     "output_type": "display_data"
    }
   ],
   "source": [
    "sns.countplot(x = df['Product_Category_1'])"
   ]
  },
  {
   "cell_type": "markdown",
   "metadata": {},
   "source": [
    "### product 5, 1 and 8 from product category 1 are purchased commonly, let's see the distribution according to age category"
   ]
  },
  {
   "cell_type": "code",
   "execution_count": 38,
   "metadata": {},
   "outputs": [
    {
     "data": {
      "text/plain": [
       "<AxesSubplot:xlabel='Age', ylabel='count'>"
      ]
     },
     "execution_count": 38,
     "metadata": {},
     "output_type": "execute_result"
    },
    {
     "data": {
      "image/png": "[encoded data removed]",
      "text/plain": [
       "<Figure size 1080x360 with 1 Axes>"
      ]
     },
     "metadata": {
      "needs_background": "light"
     },
     "output_type": "display_data"
    }
   ],
   "source": [
    "plt.subplots(figsize=(15,5))\n",
    "data = df.groupby(['Age', 'Product_Category_1'])['Product_Category_1'].count().reset_index(name='count')\n",
    "sns.barplot(x = data['Age'], y = data['count'], hue = data['Product_Category_1'])"
   ]
  },
  {
   "cell_type": "markdown",
   "metadata": {},
   "source": [
    "### irrespective of age group, we see the same product distribution\n",
    "\n",
    "### let's see no. of customers from different city and maximum purchase by city category"
   ]
  },
  {
   "cell_type": "code",
   "execution_count": 42,
   "metadata": {},
   "outputs": [
    {
     "data": {
      "text/plain": [
       "<AxesSubplot:xlabel='City_Category', ylabel='Purchase'>"
      ]
     },
     "execution_count": 42,
     "metadata": {},
     "output_type": "execute_result"
    },
    {
     "data": {
      "image/png": "[encoded data removed]",
      "text/plain": [
       "<Figure size 1080x360 with 2 Axes>"
      ]
     },
     "metadata": {
      "needs_background": "light"
     },
     "output_type": "display_data"
    }
   ],
   "source": [
    "plt.subplots(figsize=(15,5))\n",
    "plt.subplot(1, 2, 1)\n",
    "sns.countplot(x = df['City_Category'])\n",
    "\n",
    "plt.subplot(1, 2, 2)\n",
    "data = df.groupby('City_Category')['Purchase'].sum().reset_index()\n",
    "sns.barplot(x = data['City_Category'], y = data['Purchase'])"
   ]
  },
  {
   "cell_type": "markdown",
   "metadata": {},
   "source": [
    "### maximum customers are from city B"
   ]
  },
  {
   "cell_type": "code",
   "execution_count": 49,
   "metadata": {},
   "outputs": [
    {
     "data": {
      "text/plain": [
       "<AxesSubplot:xlabel='City_Category', ylabel='count'>"
      ]
     },
     "execution_count": 49,
     "metadata": {},
     "output_type": "execute_result"
    },
    {
     "data": {
      "image/png": "[encoded data removed]",
      "text/plain": [
       "<Figure size 1080x360 with 1 Axes>"
      ]
     },
     "metadata": {
      "needs_background": "light"
     },
     "output_type": "display_data"
    }
   ],
   "source": [
    "plt.subplots(figsize=(15,5))\n",
    "data = df.groupby(['City_Category', 'Product_Category_1'])['Product_Category_1'].count().reset_index(name='count')\n",
    "sns.barplot(x = data['City_Category'], y = data['count'], hue = data['Product_Category_1'])"
   ]
  },
  {
   "cell_type": "code",
   "execution_count": 72,
   "metadata": {},
   "outputs": [
    {
     "data": {
      "image/png": "[encoded data removed]",
      "text/plain": [
       "<Figure size 1080x576 with 1 Axes>"
      ]
     },
     "metadata": {},
     "output_type": "display_data"
    }
   ],
   "source": [
    "plt.subplots(figsize=(15,8))\n",
    "plt.pie(df['Occupation'].value_counts().values, autopct='%1.1f%%', labels = df['Occupation'].value_counts().index, textprops={'color':\"w\", 'weight': 'bold'})\n",
    "plt.title(\"Occupation among customers\", color='w', weight=\"bold\")\n",
    "plt.show()"
   ]
  },
  {
   "cell_type": "code",
   "execution_count": 75,
   "metadata": {},
   "outputs": [
    {
     "data": {
      "text/plain": [
       "<AxesSubplot:xlabel='Occupation', ylabel='Purchase'>"
      ]
     },
     "execution_count": 75,
     "metadata": {},
     "output_type": "execute_result"
    },
    {
     "data": {
      "image/png": "[encoded data removed]",
      "text/plain": [
       "<Figure size 1080x360 with 1 Axes>"
      ]
     },
     "metadata": {
      "needs_background": "light"
     },
     "output_type": "display_data"
    }
   ],
   "source": [
    "plt.subplots(figsize=(15,5))\n",
    "data = df.groupby('Occupation')['Purchase'].sum().reset_index()\n",
    "sns.barplot(x = data['Occupation'], y = data['Purchase'])"
   ]
  },
  {
   "cell_type": "markdown",
   "metadata": {},
   "source": [
    "### customers with occupation 0, 4, 7, 12, 17 and 20 have high spendings\n",
    "### since occupations 0, 4, 7 are in majority this trend is expected but for 17, 12 and 20 the spendings are relatively high"
   ]
  },
  {
   "cell_type": "code",
   "execution_count": 66,
   "metadata": {},
   "outputs": [
    {
     "data": {
      "image/png": "[encoded data removed]",
      "text/plain": [
       "<Figure size 432x288 with 1 Axes>"
      ]
     },
     "metadata": {},
     "output_type": "display_data"
    }
   ],
   "source": [
    "plt.pie(df['Gender'].value_counts().values, labels=['Male', 'Female'], textprops={'color':\"w\", 'weight': 'bold'})\n",
    "plt.title(\"gender distribution among customers\", color='w', weight=\"bold\")\n",
    "plt.show()"
   ]
  },
  {
   "cell_type": "markdown",
   "metadata": {},
   "source": [
    "### since there are more no. of males, we can expect our model to be biased towards males"
   ]
  },
  {
   "cell_type": "code",
   "execution_count": 19,
   "metadata": {},
   "outputs": [
    {
     "data": {
      "text/plain": [
       "<AxesSubplot:xlabel='Gender', ylabel='Purchase'>"
      ]
     },
     "execution_count": 19,
     "metadata": {},
     "output_type": "execute_result"
    },
    {
     "data": {
      "image/png": "[encoded data removed]",
      "text/plain": [
       "<Figure size 432x288 with 1 Axes>"
      ]
     },
     "metadata": {
      "needs_background": "light"
     },
     "output_type": "display_data"
    }
   ],
   "source": [
    "sns.barplot(x = df['Gender'], y = df['Purchase'])"
   ]
  },
  {
   "cell_type": "code",
   "execution_count": 20,
   "metadata": {},
   "outputs": [
    {
     "data": {
      "text/plain": [
       "<AxesSubplot:xlabel='Age', ylabel='count'>"
      ]
     },
     "execution_count": 20,
     "metadata": {},
     "output_type": "execute_result"
    },
    {
     "data": {
      "image/png": "[encoded data removed]",
      "text/plain": [
       "<Figure size 432x288 with 1 Axes>"
      ]
     },
     "metadata": {
      "needs_background": "light"
     },
     "output_type": "display_data"
    }
   ],
   "source": [
    "sns.countplot(x = df['Age'], hue = df['Gender'])"
   ]
  },
  {
   "cell_type": "code",
   "execution_count": 44,
   "metadata": {},
   "outputs": [
    {
     "data": {
      "text/plain": [
       "<AxesSubplot:xlabel='Age', ylabel='count'>"
      ]
     },
     "execution_count": 44,
     "metadata": {},
     "output_type": "execute_result"
    },
    {
     "data": {
      "image/png": "[encoded data removed]",
      "text/plain": [
       "<Figure size 1440x576 with 1 Axes>"
      ]
     },
     "metadata": {
      "needs_background": "light"
     },
     "output_type": "display_data"
    },
    {
     "data": {
      "image/png": "[encoded data removed]",
      "text/plain": [
       "<Figure size 1440x576 with 1 Axes>"
      ]
     },
     "metadata": {
      "needs_background": "light"
     },
     "output_type": "display_data"
    }
   ],
   "source": [
    "plt.subplots(figsize=(20,8))\n",
    "age = df[(df['Age']==\"46-50\") | (df['Age']==\"36-45\")]\n",
    "sns.countplot(x = age.Age, hue=df['Product_Category_1'])\n",
    "\n",
    "plt.subplots(figsize=(20,8))\n",
    "sns.countplot(x = age.Age, hue=df['Product_Category_2'])"
   ]
  },
  {
   "cell_type": "markdown",
   "metadata": {},
   "source": [
    "### here we can see that the product distribution for both these age categories are same, hence we can merge these into 1 column so as to reduce the dimensionality of our data"
   ]
  },
  {
   "cell_type": "code",
   "execution_count": 169,
   "metadata": {},
   "outputs": [
    {
     "data": {
      "text/plain": [
       "array(['0-17', '55+', '26-35', '36-45', '51-55', '18-25'], dtype=object)"
      ]
     },
     "execution_count": 169,
     "metadata": {},
     "output_type": "execute_result"
    }
   ],
   "source": [
    "df['Age'].replace(to_replace = \"46-50\", value = \"36-45\", inplace=True)\n",
    "df['Age'].unique()"
   ]
  },
  {
   "cell_type": "code",
   "execution_count": 51,
   "metadata": {},
   "outputs": [
    {
     "data": {
      "text/plain": [
       "B    231173\n",
       "C    171175\n",
       "A    147720\n",
       "Name: City_Category, dtype: int64"
      ]
     },
     "execution_count": 51,
     "metadata": {},
     "output_type": "execute_result"
    }
   ],
   "source": [
    "df['City_Category'].value_counts()"
   ]
  },
  {
   "cell_type": "code",
   "execution_count": 170,
   "metadata": {},
   "outputs": [
    {
     "name": "stdout",
     "output_type": "stream",
     "text": [
      "['F' 'M']\n",
      "['A' 'B' 'C']\n"
     ]
    }
   ],
   "source": [
    "le = LabelEncoder()\n",
    "df['Gender'] = le.fit_transform(df['Gender'])\n",
    "print(le.classes_)\n",
    "\n",
    "df['City_Category'] = le.fit_transform(df['City_Category'])\n",
    "print(le.classes_)"
   ]
  },
  {
   "cell_type": "code",
   "execution_count": 171,
   "metadata": {},
   "outputs": [
    {
     "name": "stdout",
     "output_type": "stream",
     "text": [
      "[array(['0-17', '18-25', '26-35', '36-45', '51-55', '55+'], dtype=object)]\n"
     ]
    }
   ],
   "source": [
    "ohe = OneHotEncoder(drop='first')\n",
    "data = ohe.fit_transform(df['Age'].values.reshape(-1, 1))\n",
    "print(ohe.categories_)"
   ]
  },
  {
   "cell_type": "code",
   "execution_count": 172,
   "metadata": {},
   "outputs": [],
   "source": [
    "df.drop('Age', axis = 1, inplace = True)\n",
    "df = pd.concat([df, pd.DataFrame(data.toarray(), columns=['18-25', '26-35', '36-45', '51-55', '55+'])], axis = 1)"
   ]
  },
  {
   "cell_type": "code",
   "execution_count": 173,
   "metadata": {},
   "outputs": [
    {
     "data": {
      "text/html": [
       "<div>\n",
       "<style scoped>\n",
       "    .dataframe tbody tr th:only-of-type {\n",
       "        vertical-align: middle;\n",
       "    }\n",
       "\n",
       "    .dataframe tbody tr th {\n",
       "        vertical-align: top;\n",
       "    }\n",
       "\n",
       "    .dataframe thead th {\n",
       "        text-align: right;\n",
       "    }\n",
       "</style>\n",
       "<table border=\"1\" class=\"dataframe\">\n",
       "  <thead>\n",
       "    <tr style=\"text-align: right;\">\n",
       "      <th></th>\n",
       "      <th>Gender</th>\n",
       "      <th>Occupation</th>\n",
       "      <th>City_Category</th>\n",
       "      <th>Stay_In_Current_City_Years</th>\n",
       "      <th>Marital_Status</th>\n",
       "      <th>Product_Category_1</th>\n",
       "      <th>Product_Category_2</th>\n",
       "      <th>Product_Category_3</th>\n",
       "      <th>Purchase</th>\n",
       "      <th>18-25</th>\n",
       "      <th>26-35</th>\n",
       "      <th>36-45</th>\n",
       "      <th>51-55</th>\n",
       "      <th>55+</th>\n",
       "    </tr>\n",
       "  </thead>\n",
       "  <tbody>\n",
       "    <tr>\n",
       "      <th>0</th>\n",
       "      <td>0</td>\n",
       "      <td>10</td>\n",
       "      <td>0</td>\n",
       "      <td>2</td>\n",
       "      <td>0</td>\n",
       "      <td>3</td>\n",
       "      <td>-2.0</td>\n",
       "      <td>-2.0</td>\n",
       "      <td>8370</td>\n",
       "      <td>0.0</td>\n",
       "      <td>0.0</td>\n",
       "      <td>0.0</td>\n",
       "      <td>0.0</td>\n",
       "      <td>0.0</td>\n",
       "    </tr>\n",
       "    <tr>\n",
       "      <th>1</th>\n",
       "      <td>0</td>\n",
       "      <td>10</td>\n",
       "      <td>0</td>\n",
       "      <td>2</td>\n",
       "      <td>0</td>\n",
       "      <td>1</td>\n",
       "      <td>6.0</td>\n",
       "      <td>14.0</td>\n",
       "      <td>15200</td>\n",
       "      <td>0.0</td>\n",
       "      <td>0.0</td>\n",
       "      <td>0.0</td>\n",
       "      <td>0.0</td>\n",
       "      <td>0.0</td>\n",
       "    </tr>\n",
       "    <tr>\n",
       "      <th>2</th>\n",
       "      <td>0</td>\n",
       "      <td>10</td>\n",
       "      <td>0</td>\n",
       "      <td>2</td>\n",
       "      <td>0</td>\n",
       "      <td>12</td>\n",
       "      <td>-2.0</td>\n",
       "      <td>-2.0</td>\n",
       "      <td>1422</td>\n",
       "      <td>0.0</td>\n",
       "      <td>0.0</td>\n",
       "      <td>0.0</td>\n",
       "      <td>0.0</td>\n",
       "      <td>0.0</td>\n",
       "    </tr>\n",
       "    <tr>\n",
       "      <th>3</th>\n",
       "      <td>0</td>\n",
       "      <td>10</td>\n",
       "      <td>0</td>\n",
       "      <td>2</td>\n",
       "      <td>0</td>\n",
       "      <td>12</td>\n",
       "      <td>14.0</td>\n",
       "      <td>-2.0</td>\n",
       "      <td>1057</td>\n",
       "      <td>0.0</td>\n",
       "      <td>0.0</td>\n",
       "      <td>0.0</td>\n",
       "      <td>0.0</td>\n",
       "      <td>0.0</td>\n",
       "    </tr>\n",
       "    <tr>\n",
       "      <th>4</th>\n",
       "      <td>1</td>\n",
       "      <td>16</td>\n",
       "      <td>2</td>\n",
       "      <td>4+</td>\n",
       "      <td>0</td>\n",
       "      <td>8</td>\n",
       "      <td>-2.0</td>\n",
       "      <td>-2.0</td>\n",
       "      <td>7969</td>\n",
       "      <td>0.0</td>\n",
       "      <td>0.0</td>\n",
       "      <td>0.0</td>\n",
       "      <td>0.0</td>\n",
       "      <td>1.0</td>\n",
       "    </tr>\n",
       "  </tbody>\n",
       "</table>\n",
       "</div>"
      ],
      "text/plain": [
       "   Gender  Occupation  City_Category Stay_In_Current_City_Years  \\\n",
       "0       0          10              0                          2   \n",
       "1       0          10              0                          2   \n",
       "2       0          10              0                          2   \n",
       "3       0          10              0                          2   \n",
       "4       1          16              2                         4+   \n",
       "\n",
       "   Marital_Status  Product_Category_1  Product_Category_2  Product_Category_3  \\\n",
       "0               0                   3                -2.0                -2.0   \n",
       "1               0                   1                 6.0                14.0   \n",
       "2               0                  12                -2.0                -2.0   \n",
       "3               0                  12                14.0                -2.0   \n",
       "4               0                   8                -2.0                -2.0   \n",
       "\n",
       "   Purchase  18-25  26-35  36-45  51-55  55+  \n",
       "0      8370    0.0    0.0    0.0    0.0  0.0  \n",
       "1     15200    0.0    0.0    0.0    0.0  0.0  \n",
       "2      1422    0.0    0.0    0.0    0.0  0.0  \n",
       "3      1057    0.0    0.0    0.0    0.0  0.0  \n",
       "4      7969    0.0    0.0    0.0    0.0  1.0  "
      ]
     },
     "execution_count": 173,
     "metadata": {},
     "output_type": "execute_result"
    }
   ],
   "source": [
    "df.drop(['User_ID', 'Product_ID'], axis = 1, inplace = True)\n",
    "df.head()"
   ]
  },
  {
   "cell_type": "code",
   "execution_count": 174,
   "metadata": {},
   "outputs": [],
   "source": [
    "df['Stay_In_Current_City_Years'] = df['Stay_In_Current_City_Years'].apply(lambda x : int(x.strip(\"+\")))"
   ]
  },
  {
   "cell_type": "code",
   "execution_count": 104,
   "metadata": {},
   "outputs": [
    {
     "name": "stdout",
     "output_type": "stream",
     "text": [
      "<class 'pandas.core.frame.DataFrame'>\n",
      "RangeIndex: 550068 entries, 0 to 550067\n",
      "Data columns (total 14 columns):\n",
      " #   Column                      Non-Null Count   Dtype  \n",
      "---  ------                      --------------   -----  \n",
      " 0   Gender                      550068 non-null  int32  \n",
      " 1   Occupation                  550068 non-null  int64  \n",
      " 2   City_Category               550068 non-null  int32  \n",
      " 3   Stay_In_Current_City_Years  550068 non-null  int64  \n",
      " 4   Marital_Status              550068 non-null  int64  \n",
      " 5   Product_Category_1          550068 non-null  int64  \n",
      " 6   Product_Category_2          550068 non-null  float64\n",
      " 7   Product_Category_3          550068 non-null  float64\n",
      " 8   Purchase                    550068 non-null  int64  \n",
      " 9   18-25                       550068 non-null  float64\n",
      " 10  26-35                       550068 non-null  float64\n",
      " 11  36-45                       550068 non-null  float64\n",
      " 12  51-55                       550068 non-null  float64\n",
      " 13  55+                         550068 non-null  float64\n",
      "dtypes: float64(7), int32(2), int64(5)\n",
      "memory usage: 54.6 MB\n"
     ]
    }
   ],
   "source": [
    "df.info()"
   ]
  },
  {
   "cell_type": "markdown",
   "metadata": {},
   "source": [
    "<a id='pipeline'></a>\n",
    "# combining preprocessing steps into a pipeline"
   ]
  },
  {
   "cell_type": "code",
   "execution_count": 9,
   "metadata": {},
   "outputs": [],
   "source": [
    "class AgeEncoder(BaseEstimator, TransformerMixin):\n",
    "    def fit(self, X, y = None, *args):\n",
    "        return self\n",
    "    \n",
    "    def transform(self, X, y = None, *args):\n",
    "        X['Age'] = X['Age'].replace(to_replace = \"46-50\", value = \"36-45\")\n",
    "        ohe = OneHotEncoder(drop='first')\n",
    "        data = ohe.fit_transform(X['Age'].values.reshape(-1, 1))\n",
    "        X = X.drop('Age', axis = 1)\n",
    "        X = pd.concat([X, pd.DataFrame(data.toarray(), columns=['18-25', '26-35', '36-45', '51-55', '55+'])], axis = 1)\n",
    "        return X\n",
    "\n",
    "class CustomImputer(BaseEstimator, TransformerMixin):\n",
    "    def fit(self, X, y = None, *args):\n",
    "        return self\n",
    "    \n",
    "    def transform(self, X, y = None, *args):\n",
    "        X[['Product_Category_2', 'Product_Category_3']] = X[['Product_Category_2', 'Product_Category_3']].fillna(-2)\n",
    "        return X\n",
    "\n",
    "class CustomEncoder(BaseEstimator, TransformerMixin):\n",
    "    def fit(self, X, y = None, *args):\n",
    "        return self\n",
    "    \n",
    "    def transform(self, X, y = None, *args):\n",
    "        le = LabelEncoder()\n",
    "        X['Gender'] = le.fit_transform(X['Gender'])\n",
    "        np.save('datasets/blackFriday/gender_classes.npy', le.classes_)\n",
    "\n",
    "        X['City_Category'] = le.fit_transform(X['City_Category'])\n",
    "        np.save('datasets/blackFriday/city_classes.npy', le.classes_)\n",
    "        return X\n",
    "\n",
    "def convertInt(X, *args):\n",
    "    X['Stay_In_Current_City_Years'] = X['Stay_In_Current_City_Years'].apply(lambda x : int(x.strip(\"+\")))\n",
    "    return X\n",
    "\n",
    "train = ColumnTransformer(transformers=[\n",
    "    (\"age\", AgeEncoder(), ['Age', 'Marital_Status', 'Occupation']),\n",
    "    ('CustomEncode', CustomEncoder(), ['Gender', 'City_Category']),\n",
    "    ('impute', CustomImputer(), ['Product_Category_1', 'Product_Category_2', 'Product_Category_3']),\n",
    "    ('stay', FunctionTransformer(convertInt), ['Stay_In_Current_City_Years'] ),\n",
    "])\n",
    "\n",
    "df = pd.read_csv('datasets/blackFriday/train.csv')\n",
    "X = df.drop('Purchase', axis=1)\n",
    "y = df['Purchase']\n",
    "\n",
    "X = train.fit_transform(X)"
   ]
  },
  {
   "cell_type": "code",
   "execution_count": 36,
   "metadata": {},
   "outputs": [],
   "source": [
    "class TestEncoder(BaseEstimator, TransformerMixin):\n",
    "    def fit(self, X, y = None, *args):\n",
    "        return self\n",
    "    \n",
    "    def transform(self, X, y = None, *args):\n",
    "        le = LabelEncoder()\n",
    "        le.classes_ = np.load('datasets/blackFriday/gender_classes.npy', allow_pickle=True)\n",
    "        X['Gender'] = le.transform(X['Gender'])\n",
    "        le.classes_ = np.load('datasets/blackFriday/city_classes.npy', allow_pickle=True)\n",
    "        X['City_Category'] = le.transform(X['City_Category'])\n",
    "        return X\n",
    "\n",
    "test = ColumnTransformer(transformers=[\n",
    "    (\"age\", AgeEncoder(), ['Age', 'Marital_Status', 'Occupation']),\n",
    "    ('genderEncode', TestEncoder(), ['Gender', 'City_Category']),\n",
    "    ('impute', CustomImputer(), ['Product_Category_1', 'Product_Category_2', 'Product_Category_3']),\n",
    "    ('stay', FunctionTransformer(convertInt), ['Stay_In_Current_City_Years'] ),\n",
    "])"
   ]
  },
  {
   "cell_type": "markdown",
   "metadata": {},
   "source": [
    "<a id='Regression'></a>\n",
    "# Regression"
   ]
  },
  {
   "cell_type": "code",
   "execution_count": 18,
   "metadata": {},
   "outputs": [],
   "source": [
    "model_list = [LinearRegression(), Ridge(), Lasso(), SGDRegressor(), DecisionTreeRegressor()]"
   ]
  },
  {
   "cell_type": "code",
   "execution_count": 19,
   "metadata": {},
   "outputs": [
    {
     "name": "stdout",
     "output_type": "stream",
     "text": [
      "LinearRegression()  mean score  -21387870.145714693 \n",
      "\n",
      "Ridge()  mean score  -21387870.122517437 \n",
      "\n",
      "Lasso()  mean score  -21388954.11736966 \n",
      "\n",
      "SGDRegressor()  mean score  -21885265.055160612 \n",
      "\n",
      "DecisionTreeRegressor()  mean score  -11093991.268751075 \n",
      "\n"
     ]
    }
   ],
   "source": [
    "for clf in model_list:\n",
    "    print(clf, \" mean score \", np.mean(cross_val_score(clf, X, y, cv=5, scoring='neg_mean_squared_error')), \"\\n\")"
   ]
  },
  {
   "cell_type": "code",
   "execution_count": 27,
   "metadata": {},
   "outputs": [
    {
     "data": {
      "text/plain": [
       "-11729398.750218982"
      ]
     },
     "execution_count": 27,
     "metadata": {},
     "output_type": "execute_result"
    }
   ],
   "source": [
    "rdf_clf = RandomForestRegressor(max_depth = 5, n_jobs=-1)\n",
    "np.mean(cross_val_score(rdf_clf, X, y, cv=5, scoring='neg_mean_squared_error'))"
   ]
  },
  {
   "cell_type": "code",
   "execution_count": 28,
   "metadata": {},
   "outputs": [
    {
     "data": {
      "text/plain": [
       "-8966359.074184861"
      ]
     },
     "execution_count": 28,
     "metadata": {},
     "output_type": "execute_result"
    }
   ],
   "source": [
    "gd_clf = GradientBoostingRegressor()\n",
    "np.mean(cross_val_score(gd_clf, X, y, cv=5, scoring='neg_mean_squared_error'))"
   ]
  },
  {
   "cell_type": "code",
   "execution_count": 29,
   "metadata": {},
   "outputs": [
    {
     "data": {
      "text/plain": [
       "-13301111.417854903"
      ]
     },
     "execution_count": 29,
     "metadata": {},
     "output_type": "execute_result"
    }
   ],
   "source": [
    "ad_clf = AdaBoostRegressor()\n",
    "np.mean(cross_val_score(ad_clf, X, y, cv=3, scoring='neg_mean_squared_error'))"
   ]
  },
  {
   "cell_type": "markdown",
   "metadata": {},
   "source": [
    "### gradient boosting gives best results\n",
    "let's fine tune it and train it finally on whole train dataset"
   ]
  },
  {
   "cell_type": "code",
   "execution_count": 31,
   "metadata": {},
   "outputs": [],
   "source": [
    "# takes too long to run\n",
    "gd_clf = GradientBoostingRegressor(n_estimators=200)\n",
    "np.mean(cross_val_score(gd_clf, X, y, cv=5, scoring='neg_mean_squared_error'))"
   ]
  },
  {
   "cell_type": "code",
   "execution_count": 32,
   "metadata": {},
   "outputs": [
    {
     "data": {
      "text/plain": [
       "GradientBoostingRegressor()"
      ]
     },
     "execution_count": 32,
     "metadata": {},
     "output_type": "execute_result"
    }
   ],
   "source": [
    "gd_clf = GradientBoostingRegressor()\n",
    "gd_clf.fit(X, y)"
   ]
  },
  {
   "cell_type": "code",
   "execution_count": 45,
   "metadata": {},
   "outputs": [],
   "source": [
    "df_test = pd.read_csv('datasets/blackFriday/test.csv')\n",
    "X_test = test.fit_transform(df_test)\n",
    "y_test_preds = gd_clf.predict(X_test)\n",
    "\n",
    "submission = pd.read_csv('datasets/blackFriday/sample_submission.csv')\n",
    "submission['Purchase'] = y_test_preds\n",
    "submission.to_csv('datasets/blackFriday/grad_submission.csv', index=False)"
   ]
  },
  {
   "cell_type": "code",
   "execution_count": 47,
   "metadata": {},
   "outputs": [],
   "source": [
    "ds_reg = DecisionTreeRegressor()\n",
    "ds_reg.fit(X, y)\n",
    "y_ds_preds = ds_reg.predict(X_test)\n",
    "submission['Purchase'] = y_ds_preds\n",
    "submission.to_csv('datasets/blackFriday/des_submission.csv', index=False)"
   ]
  },
  {
   "cell_type": "code",
   "execution_count": 49,
   "metadata": {},
   "outputs": [],
   "source": [
    "rdf_clf = RandomForestRegressor(max_depth = 5, n_jobs=-1)\n",
    "rdf_clf.fit(X, y)\n",
    "y_rdf_preds = rdf_clf.predict(X_test)\n",
    "submission['Purchase'] = y_rdf_preds\n",
    "submission.to_csv('datasets/blackFriday/rdf_submission.csv', index=False)"
   ]
  },
  {
   "cell_type": "code",
   "execution_count": 50,
   "metadata": {},
   "outputs": [],
   "source": [
    "df = pd.read_csv('datasets/blackFriday/train.csv')"
   ]
  },
  {
   "cell_type": "code",
   "execution_count": 56,
   "metadata": {},
   "outputs": [],
   "source": [
    "# dropping product category 2 and 3 as they contained large amount of nan values\n",
    "train1 = ColumnTransformer(transformers=[\n",
    "    (\"age\", AgeEncoder(), ['Age', 'Marital_Status', 'Occupation']),\n",
    "    ('CustomEncode', CustomEncoder(), ['Gender', 'City_Category']),\n",
    "    ('stay', FunctionTransformer(convertInt), ['Stay_In_Current_City_Years'] ),\n",
    "], remainder='passthrough')\n",
    "test1 = ColumnTransformer(transformers=[\n",
    "    (\"age\", AgeEncoder(), ['Age', 'Marital_Status', 'Occupation']),\n",
    "    ('genderEncode', TestEncoder(), ['Gender', 'City_Category']),\n",
    "    ('stay', FunctionTransformer(convertInt), ['Stay_In_Current_City_Years'] ),\n",
    "], remainder='passthrough')\n",
    "\n",
    "X = df.drop(['Purchase', 'Product_Category_2', 'Product_Category_3', 'User_ID', 'Product_ID'], axis=1)\n",
    "y = df['Purchase']\n",
    "X = train1.fit_transform(X)\n",
    "\n",
    "gd_clf = GradientBoostingRegressor()\n",
    "gd_clf.fit(X, y)\n",
    "\n",
    "df_test = pd.read_csv('datasets/blackFriday/test.csv')\n",
    "df_test = df_test.drop(['Product_Category_2', 'Product_Category_3', 'User_ID', 'Product_ID'], axis=1)\n",
    "X_test = test1.fit_transform(df_test)\n",
    "y_test_preds = gd_clf.predict(X_test)\n",
    "\n",
    "submission = pd.read_csv('datasets/blackFriday/sample_submission.csv')\n",
    "submission['Purchase'] = y_test_preds\n",
    "submission.to_csv('datasets/blackFriday/grad1_submission.csv', index=False)"
   ]
  },
  {
   "cell_type": "markdown",
   "metadata": {},
   "source": [
    "### dropping doesn't increase the accuracy"
   ]
  }
 ],
 "metadata": {
  "kernelspec": {
   "display_name": "mlenv",
   "language": "python",
   "name": "mlenv"
  },
  "language_info": {
   "codemirror_mode": {
    "name": "ipython",
    "version": 3
   },
   "file_extension": ".py",
   "mimetype": "text/x-python",
   "name": "python",
   "nbconvert_exporter": "python",
   "pygments_lexer": "ipython3",
   "version": "3.8.1"
  }
 },
 "nbformat": 4,
 "nbformat_minor": 4
}
