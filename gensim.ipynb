{
 "cells": [
  {
   "cell_type": "code",
   "execution_count": 18,
   "metadata": {},
   "outputs": [],
   "source": [
    "from nltk.tokenize import word_tokenize\n",
    "from nltk.stem import WordNetLemmatizer\n",
    "from nltk.corpus import stopwords\n",
    "from string import punctuation\n",
    "\n",
    "from gensim import corpora\n",
    "from gensim.corpora.dictionary import Dictionary\n",
    "from gensim.models.ldamodel import LdaModel"
   ]
  },
  {
   "cell_type": "code",
   "execution_count": 2,
   "metadata": {},
   "outputs": [],
   "source": [
    "sample1 = \"Our board of directors boasts 11 seasoned technology and business leaders from Adobe, GSK, HGGC and more.\"\n",
    "sample2 = \"Our executives lead by example and guide us to accomplish great things every day.\"\n",
    "sample3 = \"Working at Pluralisght means being surrounded by smart, passionate people who inspire us to do our best work.\"\n",
    "sample4 = \"A leadership team with vision.\"\n",
    "sample5 = \"Courses on cloud, microservices, machine learning, security, Agile and more.\"\n",
    "sample6 = \"Interactive courses and projects.\"\n",
    "sample7 = \"Personalized course recommendations from Iris.\"\n",
    "sample8 = \"We’re excited to announce that Pluralsight has ranked #9 on the Great Place to Work 2018, Best Medium Workplaces list!\"\n",
    "sample9 = \"Few of the job opportunities include Implementation Consultant - Analytics, Manager - assessment production, Chief Information Officer, Director of Communications.\"\n",
    "\n",
    "# compile documents\n",
    "compileddoc = [sample1, sample2, sample3, sample4, sample5, sample6, sample7, sample8, sample9] "
   ]
  },
  {
   "cell_type": "code",
   "execution_count": 5,
   "metadata": {},
   "outputs": [],
   "source": [
    "stopword_list = stopwords.words(\"english\")\n",
    "punc_list = punctuation\n",
    "lemma = WordNetLemmatizer()"
   ]
  },
  {
   "cell_type": "code",
   "execution_count": 12,
   "metadata": {},
   "outputs": [],
   "source": [
    "def clean(document):\n",
    "    tokenized_doc = word_tokenize(document.lower())\n",
    "    stopword_removed = [word for word in tokenized_doc if word not in stopword_list]\n",
    "    punctuation_removed = [word for word in stopword_removed if word not in punc_list]\n",
    "    normalised = [lemma.lemmatize(word) for word in punctuation_removed]\n",
    "    return normalised"
   ]
  },
  {
   "cell_type": "code",
   "execution_count": 13,
   "metadata": {},
   "outputs": [],
   "source": [
    "final_doc = [clean(document) for document in compileddoc]"
   ]
  },
  {
   "cell_type": "code",
   "execution_count": 14,
   "metadata": {},
   "outputs": [
    {
     "data": {
      "text/plain": [
       "[['board',\n",
       "  'director',\n",
       "  'boast',\n",
       "  '11',\n",
       "  'seasoned',\n",
       "  'technology',\n",
       "  'business',\n",
       "  'leader',\n",
       "  'adobe',\n",
       "  'gsk',\n",
       "  'hggc'],\n",
       " ['executive',\n",
       "  'lead',\n",
       "  'example',\n",
       "  'guide',\n",
       "  'u',\n",
       "  'accomplish',\n",
       "  'great',\n",
       "  'thing',\n",
       "  'every',\n",
       "  'day'],\n",
       " ['working',\n",
       "  'pluralisght',\n",
       "  'mean',\n",
       "  'surrounded',\n",
       "  'smart',\n",
       "  'passionate',\n",
       "  'people',\n",
       "  'inspire',\n",
       "  'u',\n",
       "  'best',\n",
       "  'work'],\n",
       " ['leadership', 'team', 'vision'],\n",
       " ['course',\n",
       "  'cloud',\n",
       "  'microservices',\n",
       "  'machine',\n",
       "  'learning',\n",
       "  'security',\n",
       "  'agile'],\n",
       " ['interactive', 'course', 'project'],\n",
       " ['personalized', 'course', 'recommendation', 'iris'],\n",
       " ['’',\n",
       "  'excited',\n",
       "  'announce',\n",
       "  'pluralsight',\n",
       "  'ranked',\n",
       "  '9',\n",
       "  'great',\n",
       "  'place',\n",
       "  'work',\n",
       "  '2018',\n",
       "  'best',\n",
       "  'medium',\n",
       "  'workplace',\n",
       "  'list'],\n",
       " ['job',\n",
       "  'opportunity',\n",
       "  'include',\n",
       "  'implementation',\n",
       "  'consultant',\n",
       "  'analytics',\n",
       "  'manager',\n",
       "  'assessment',\n",
       "  'production',\n",
       "  'chief',\n",
       "  'information',\n",
       "  'officer',\n",
       "  'director',\n",
       "  'communication']]"
      ]
     },
     "execution_count": 14,
     "metadata": {},
     "output_type": "execute_result"
    }
   ],
   "source": [
    "final_doc"
   ]
  },
  {
   "cell_type": "code",
   "execution_count": 16,
   "metadata": {},
   "outputs": [],
   "source": [
    "dictionary = corpora.Dictionary(final_doc)"
   ]
  },
  {
   "cell_type": "code",
   "execution_count": 20,
   "metadata": {},
   "outputs": [],
   "source": [
    "DT_matrix = [dictionary.doc2bow(doc) for doc in final_doc]\n",
    "lda_model = LdaModel"
   ]
  },
  {
   "cell_type": "code",
   "execution_count": 21,
   "metadata": {},
   "outputs": [
    {
     "data": {
      "text/plain": [
       "[(0,\n",
       "  '0.046*\"course\" + 0.022*\"iris\" + 0.022*\"recommendation\" + 0.022*\"director\" + 0.022*\"personalized\"'),\n",
       " (1,\n",
       "  '0.029*\"best\" + 0.029*\"work\" + 0.026*\"u\" + 0.026*\"great\" + 0.019*\"director\"')]"
      ]
     },
     "execution_count": 21,
     "metadata": {},
     "output_type": "execute_result"
    }
   ],
   "source": [
    "model_1 = lda_model(DT_matrix, num_topics=2, id2word = dictionary)\n",
    "model_1.print_topics(num_topics=2, num_words=5)"
   ]
  },
  {
   "cell_type": "code",
   "execution_count": 22,
   "metadata": {},
   "outputs": [
    {
     "data": {
      "text/plain": [
       "[(0, '0.033*\"course\" + 0.032*\"work\"'),\n",
       " (1, '0.032*\"director\" + 0.021*\"course\"')]"
      ]
     },
     "execution_count": 22,
     "metadata": {},
     "output_type": "execute_result"
    }
   ],
   "source": [
    "model_2 = lda_model(DT_matrix, num_topics=2, id2word = dictionary)\n",
    "model_2.print_topics(num_topics=2, num_words=2)"
   ]
  },
  {
   "cell_type": "code",
   "execution_count": null,
   "metadata": {},
   "outputs": [],
   "source": []
  }
 ],
 "metadata": {
  "kernelspec": {
   "display_name": "mlenv",
   "language": "python",
   "name": "mlenv"
  },
  "language_info": {
   "codemirror_mode": {
    "name": "ipython",
    "version": 3
   },
   "file_extension": ".py",
   "mimetype": "text/x-python",
   "name": "python",
   "nbconvert_exporter": "python",
   "pygments_lexer": "ipython3",
   "version": "3.8.1"
  }
 },
 "nbformat": 4,
 "nbformat_minor": 4
}
